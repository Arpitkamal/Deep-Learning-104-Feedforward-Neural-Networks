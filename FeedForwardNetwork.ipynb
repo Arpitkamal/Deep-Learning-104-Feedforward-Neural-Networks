{
  "nbformat": 4,
  "nbformat_minor": 0,
  "metadata": {
    "colab": {
      "name": "FeedForwardNetwork.ipynb",
      "provenance": [],
      "authorship_tag": "ABX9TyMM1VWj+4Zr0xVwzqMQKij9",
      "include_colab_link": true
    },
    "kernelspec": {
      "name": "python3",
      "display_name": "Python 3"
    }
  },
  "cells": [
    {
      "cell_type": "markdown",
      "metadata": {
        "id": "view-in-github",
        "colab_type": "text"
      },
      "source": [
        "<a href=\"https://colab.research.google.com/github/Arpitkamal/Deep-Learning-104-Feedforward-Neural-Networks/blob/master/FeedForwardNetwork.ipynb\" target=\"_parent\"><img src=\"https://colab.research.google.com/assets/colab-badge.svg\" alt=\"Open In Colab\"/></a>"
      ]
    },
    {
      "cell_type": "markdown",
      "metadata": {
        "id": "nY0-k8KRySTj",
        "colab_type": "text"
      },
      "source": [
        "Outline\n",
        "\n",
        "\n",
        "1.   Generate data that is not linearly separable\n",
        "2.   Train with SN and see performance\n",
        "3.   Write from scratch our first feed forward network \n",
        "4.   Train the FF network on the data and compare with SN\n",
        "5.   Write a generic class for a FF network\n",
        "6.   Train generic class on binary classification\n",
        "7.   Generate data for multi-class classification\n",
        "8.   Train a FF network for step 7\n",
        "9.   Use softmax as the output layer and cross-entropy as loss function\n",
        "10.  Train with step 8 for mutli-class classification\n",
        "11.  Exercises on other datasets\n",
        "\n"
      ]
    },
    {
      "cell_type": "markdown",
      "metadata": {
        "id": "ighxkymp0Eji",
        "colab_type": "text"
      },
      "source": [
        "# Setup"
      ]
    },
    {
      "cell_type": "code",
      "metadata": {
        "id": "0sHn8WT6yJW0",
        "colab_type": "code",
        "colab": {}
      },
      "source": [
        "import numpy as np\n",
        "import matplotlib.pyplot as plt\n",
        "import matplotlib.colors\n",
        "import pandas as pd\n",
        "from sklearn.model_selection import train_test_split\n",
        "from sklearn.metrics import accuracy_score, mean_squared_error\n",
        "from tqdm import tqdm_notebook\n",
        "from sklearn.preprocessing import OneHotEncoder\n",
        "from sklearn.datasets import make_blobs"
      ],
      "execution_count": 0,
      "outputs": []
    },
    {
      "cell_type": "code",
      "metadata": {
        "id": "9ihrxYqI1CzC",
        "colab_type": "code",
        "colab": {}
      },
      "source": [
        "class SigmoidNeuron:\n",
        "\n",
        "  def __init__(self):\n",
        "    self.w = None\n",
        "    self.b = None\n",
        "\n",
        "  def perceptron(self, x):\n",
        "    return np.dot(x, self.w.T) + self.b\n",
        "\n",
        "  def sigmoid(self, x):\n",
        "    return 1.0/(1.0 + np.exp(-x))    \n",
        "\n",
        "  def grad_w_mse(self, x, y):\n",
        "    y_pred = self.sigmoid(self.perceptron(x))\n",
        "    return (y_pred - y) * y_pred * (1 - y_pred) * x\n",
        "\n",
        "  def grad_b_mse(self, x, y):\n",
        "    y_pred = self.sigmoid(self.perceptron(x))\n",
        "    return (y_pred - y) * y_pred * (1 - y_pred)\n",
        "\n",
        "  def grad_w_ce(self, x, y):\n",
        "    y_pred = self.sigmoid(self.perceptron(x)) \n",
        "    if y == 0:\n",
        "      return y_pred * x\n",
        "    elif y == 1:\n",
        "      return -1 * (1 - y_pred) * x\n",
        "    else:\n",
        "      raise ValueError(\"y should be 0 or 1\")\n",
        "\n",
        "   def grad_b_ce(self, x, y):\n",
        "     y_pred = self.sigmoid(self.perceptron(x))\n",
        "     if y == 0:\n",
        "       return y_pred\n",
        "     elif y == 1:\n",
        "       return -1 * (1 - y_pred)\n",
        "     else:\n",
        "       raise ValueError(\"y should be 0 or 1\")         \n"
      ],
      "execution_count": 0,
      "outputs": []
    }
  ]
}